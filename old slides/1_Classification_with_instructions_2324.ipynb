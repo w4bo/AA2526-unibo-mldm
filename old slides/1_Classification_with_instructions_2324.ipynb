{
  "cells": [
    {
      "cell_type": "markdown",
      "id": "bf958b94-2eed-468b-8751-6d67cc968924",
      "metadata": {
        "id": "bf958b94-2eed-468b-8751-6d67cc968924"
      },
      "source": [
        "# **Pattern Recognition**\n",
        "## **Classification through a set of explicitly programmed instructions**\n",
        "\n",
        "In this lesson, we learn how to solve a classification problem through programmed instructions, *i.e.* a sequence of conditions based on a-priori knowledge.\n",
        "\n",
        "**It is absolutely recommended to read the documentation relating to the functions and methods used!**\n",
        "Usually, it is sufficient type on Google the name of the function (and eventually the name of the library used)."
      ]
    },
    {
      "cell_type": "markdown",
      "source": [
        "Import libraries"
      ],
      "metadata": {
        "id": "ANf5HuMwx5cm"
      },
      "id": "ANf5HuMwx5cm"
    },
    {
      "cell_type": "code",
      "execution_count": null,
      "id": "da7ca425-6a70-4ed7-b109-9f605890a801",
      "metadata": {
        "id": "da7ca425-6a70-4ed7-b109-9f605890a801"
      },
      "outputs": [],
      "source": [
        "import numpy as np\n",
        "import math\n",
        "from sklearn.metrics import accuracy_score"
      ]
    },
    {
      "cell_type": "markdown",
      "source": [
        "### Functions and Classes\n",
        "This is the class that we'll use to handle coordinates of the dataset. We assume to work with only 2D $(x,y)$ coordinates."
      ],
      "metadata": {
        "id": "OM29l6-dNh2u"
      },
      "id": "OM29l6-dNh2u"
    },
    {
      "cell_type": "code",
      "execution_count": null,
      "id": "cdd826a4-c4f9-4a6d-b7d7-5649e79a2736",
      "metadata": {
        "id": "cdd826a4-c4f9-4a6d-b7d7-5649e79a2736"
      },
      "outputs": [],
      "source": [
        "class Point:\n",
        "    x = None\n",
        "    y = None"
      ]
    },
    {
      "cell_type": "markdown",
      "source": [
        "`get_labels()` is a function that receives a name (`string`) and returns the class (`int`), following this:\n",
        "\n",
        "*   Triangle: 0\n",
        "*   Rectangle: 1\n",
        "*   Square: 2\n",
        "*   Rhombus: 3\n",
        "\n",
        "Example: 0_triangle.png → 0"
      ],
      "metadata": {
        "id": "djuZe_y-NnBV"
      },
      "id": "djuZe_y-NnBV"
    },
    {
      "cell_type": "code",
      "execution_count": null,
      "id": "eabd3d3a-b65f-43f4-ba7b-f3d8a5d49371",
      "metadata": {
        "id": "eabd3d3a-b65f-43f4-ba7b-f3d8a5d49371"
      },
      "outputs": [],
      "source": [
        "def get_labels(name):\n",
        "    if 'triangle' in name:\n",
        "        return 0\n",
        "    elif 'square' in name:\n",
        "        return 1\n",
        "    elif 'rectangle' in name:\n",
        "        return 2\n",
        "    elif 'rhombus' in name:\n",
        "        return 3\n",
        "    else:\n",
        "        raise NotImplementedError('Not existing class!')"
      ]
    },
    {
      "cell_type": "markdown",
      "source": [
        "`prepare_data()` is a function that prepare the data for the computation.\n",
        "Specifically, returns two lists: `coordinates` and `labels`."
      ],
      "metadata": {
        "id": "FStoS1JuOcIm"
      },
      "id": "FStoS1JuOcIm"
    },
    {
      "cell_type": "code",
      "execution_count": null,
      "id": "8650d46f-6349-4a45-bd02-92a7c2583b49",
      "metadata": {
        "id": "8650d46f-6349-4a45-bd02-92a7c2583b49"
      },
      "outputs": [],
      "source": [
        "def prepare_data(lines):\n",
        "    labels = []\n",
        "    coordinates = []\n",
        "\n",
        "    for line in lines:\n",
        "        content = line.split()\n",
        "\n",
        "        # create label\n",
        "        labels.append(get_labels(content[0]))\n",
        "\n",
        "        # coordinates\n",
        "        coordinates.append([int(x) for x in content[1:]])\n",
        "\n",
        "    return coordinates, labels"
      ]
    },
    {
      "cell_type": "markdown",
      "source": [
        "`compute_euclidean_distance()` computes the euclidean distance between two points $p(p_x, p_y), q(q_x, q_y)$. Remember the formula:\n",
        "$d = \\sqrt{(p_x - q_x)^2 + (p_y - q_y)^2}$"
      ],
      "metadata": {
        "id": "Vlo-qtlpPnYl"
      },
      "id": "Vlo-qtlpPnYl"
    },
    {
      "cell_type": "code",
      "execution_count": null,
      "id": "0a10566a-4fd3-4e1d-8901-3d783b8418fb",
      "metadata": {
        "id": "0a10566a-4fd3-4e1d-8901-3d783b8418fb"
      },
      "outputs": [],
      "source": [
        "def compute_euclidean_distance(p1, p2):\n",
        "    return math.sqrt((p1.x - p2.x)**2 + ((p1.y - p2.y)**2))"
      ]
    },
    {
      "cell_type": "code",
      "source": [
        "def compute_euclidean_distance2(p1, p2):\n",
        "  return np.linalg.norm(p1 - p2)"
      ],
      "metadata": {
        "id": "1qubk4HWYhG3"
      },
      "id": "1qubk4HWYhG3",
      "execution_count": null,
      "outputs": []
    },
    {
      "cell_type": "markdown",
      "source": [
        "### Body of the solution\n",
        "Upload the file `shapes.txt`.\n",
        "Open the dataset file `shapes.txt` and read the content"
      ],
      "metadata": {
        "id": "BpW_DbX-QR89"
      },
      "id": "BpW_DbX-QR89"
    },
    {
      "cell_type": "code",
      "execution_count": null,
      "id": "272fe05f-1ed2-482e-93a9-d746cd1bff7d",
      "metadata": {
        "id": "272fe05f-1ed2-482e-93a9-d746cd1bff7d"
      },
      "outputs": [],
      "source": [
        "    dataset_file_path = 'shapes.txt'\n",
        "    with open(dataset_file_path, 'r') as f:\n",
        "        lines = f.readlines()\n",
        "        print('Read {} lines'.format(len(lines)))"
      ]
    },
    {
      "cell_type": "markdown",
      "source": [
        "We **shuffle** the data to change the initial order. We'll see why it is important (one reason is to prevent assumptions based on the file order).\n",
        "\n",
        "**Tools**:\n",
        "-    `np.random.shuffle()`: modify a sequence in-place by shuffling its contents."
      ],
      "metadata": {
        "id": "5gzflL5UQkYB"
      },
      "id": "5gzflL5UQkYB"
    },
    {
      "cell_type": "code",
      "execution_count": null,
      "id": "6711141f-2983-4bc0-89ce-75da88bda53e",
      "metadata": {
        "id": "6711141f-2983-4bc0-89ce-75da88bda53e"
      },
      "outputs": [],
      "source": [
        "print('Before shuffling:', lines[:10])\n",
        "np.random.shuffle(lines)\n",
        "print('After shuffling:', lines[:10])"
      ]
    },
    {
      "cell_type": "markdown",
      "source": [
        "In this case, **there is not the separation between training, validation and testing**. We have only the test set (since there is not a proper learning phase)."
      ],
      "metadata": {
        "id": "srlANxFKRIAW"
      },
      "id": "srlANxFKRIAW"
    },
    {
      "cell_type": "code",
      "execution_count": null,
      "id": "867cd14a-7920-4b35-8406-2c4ee2eb18df",
      "metadata": {
        "id": "867cd14a-7920-4b35-8406-2c4ee2eb18df"
      },
      "outputs": [],
      "source": [
        "test_set = lines[:]"
      ]
    },
    {
      "cell_type": "markdown",
      "source": [
        "We prepare the data for the computation. In `data_x` we put the data, while in `data_y` the labels."
      ],
      "metadata": {
        "id": "bdgRJPp4RTlG"
      },
      "id": "bdgRJPp4RTlG"
    },
    {
      "cell_type": "code",
      "execution_count": null,
      "id": "8aecd006-c55f-4dce-bbd2-1d069747579f",
      "metadata": {
        "id": "8aecd006-c55f-4dce-bbd2-1d069747579f"
      },
      "outputs": [],
      "source": [
        "data_x, data_y = prepare_data(test_set)\n",
        "print('Coordinates: ', data_x)\n",
        "print('Labels: ', data_y)"
      ]
    },
    {
      "cell_type": "markdown",
      "source": [
        "Now, we prepare the list `y_pred` in which we'll put **our predictions**!"
      ],
      "metadata": {
        "id": "hoYbiTXbRwAN"
      },
      "id": "hoYbiTXbRwAN"
    },
    {
      "cell_type": "code",
      "execution_count": null,
      "id": "8bc63b1b-d7ec-403c-8a72-ef6b5ca2446d",
      "metadata": {
        "id": "8bc63b1b-d7ec-403c-8a72-ef6b5ca2446d"
      },
      "outputs": [],
      "source": [
        "y_pred = []"
      ]
    },
    {
      "cell_type": "markdown",
      "source": [
        "### Classification\n",
        "Let's classify each shape present in the dataset.\n",
        "Note that a shape is a set of coordinates, that create the vertices.\n",
        "\n",
        "> *How is it possible to classify figures based only on their vertices?*"
      ],
      "metadata": {
        "id": "mr74mFVaTmFf"
      },
      "id": "mr74mFVaTmFf"
    },
    {
      "cell_type": "code",
      "execution_count": null,
      "id": "a95d7ed2-218a-45df-95fa-53207a16de02",
      "metadata": {
        "id": "a95d7ed2-218a-45df-95fa-53207a16de02"
      },
      "outputs": [],
      "source": [
        "for vertices in data_x:\n",
        "\n",
        "    # triangles\n",
        "    if len(vertices) == 6:\n",
        "        y_pred.append(0)\n",
        "        continue\n",
        "\n",
        "    p1 = Point()\n",
        "    p2 = Point()\n",
        "    p3 = Point()\n",
        "    p4 = Point()\n",
        "\n",
        "    p1.x, p1.y, p2.x, p2.y, p3.x, p3.y, p4.x, p4.y = vertices\n",
        "\n",
        "    # your code here"
      ]
    },
    {
      "cell_type": "code",
      "source": [
        "print('Our predictions: ', y_pred)\n",
        "print('Ground Truth: ', data_y)"
      ],
      "metadata": {
        "id": "Sixib2EVS0Lh"
      },
      "id": "Sixib2EVS0Lh",
      "execution_count": null,
      "outputs": []
    },
    {
      "cell_type": "markdown",
      "source": [
        "### Metrics\n",
        "It's time to understand how good we have addressed the classification task.\n",
        "We can compute the accuracy:\n",
        "$Accuracy=\\frac{Number\\,of\\,correct\\,predictions}{Total\\,number\\,of\\,predictions}$\n",
        "\n",
        "**Tools**:\n",
        "-   `accuracy_score()`: how many times the labels predicted for a sample exactly match the corresponding set of labels. The range of the score is $[0, 1]$."
      ],
      "metadata": {
        "id": "MsLYOFvVUFel"
      },
      "id": "MsLYOFvVUFel"
    },
    {
      "cell_type": "code",
      "execution_count": null,
      "id": "58f4bbb6-81f9-4d9d-8ad1-68efd4b4f532",
      "metadata": {
        "id": "58f4bbb6-81f9-4d9d-8ad1-68efd4b4f532"
      },
      "outputs": [],
      "source": [
        "print('Final Accuracy: {:.3f}'.format(accuracy_score(data_y, y_pred)))"
      ]
    },
    {
      "cell_type": "markdown",
      "source": [
        "### Homeworks\n",
        "1) Write your own function to compute the final accuracy.\n",
        "This function should receive in input two lists (predictions and ground truth labels) and output the final float score.\n",
        "\n",
        "**Tools**:\n",
        "-   `zip()`: takes iterables (can be zero or more), aggregates them in a tuple, and returns it."
      ],
      "metadata": {
        "id": "Ute4ZQ82XeRu"
      },
      "id": "Ute4ZQ82XeRu"
    },
    {
      "cell_type": "code",
      "source": [
        "def compute_accuracy(gt, pred):\n",
        "  pass"
      ],
      "metadata": {
        "id": "yQM8HByosrlS"
      },
      "id": "yQM8HByosrlS",
      "execution_count": null,
      "outputs": []
    },
    {
      "cell_type": "code",
      "source": [
        "print('Final Accuracy: {:.3f}'.format(compute_accuracy_2(data_y, y_pred)))"
      ],
      "metadata": {
        "id": "ANm-toK6tGUR"
      },
      "id": "ANm-toK6tGUR",
      "execution_count": null,
      "outputs": []
    },
    {
      "cell_type": "markdown",
      "source": [
        "2) Classify shapes using only the content of the images (no coordinates in input). **NB It is a challenging task!**\n",
        "\n",
        "Some **suggestions**:\n",
        "\n",
        "\n",
        "*   Read BW images with the command `cv2.imread()`\n",
        "*   Fill the image background with black color (`cv2.floodFill()`), the white color should be only into the shape\n",
        "*   Use the following function `compute_histo_by_lines()` to compute the line histograms of images (in each bin there is the sum of all pixels that belong to a line, row or column)\n",
        "*   Make some analysis on the computed histograms to classify different shapes. For instance, you can use the function `start_end_histo()` as first step of the analysis.\n",
        "*   Compute the final accuracy. Upload your prediction (`predictions.txt`) and labels (`labels.txt`) files on Virtuale. The student with best accuracy will present his/her solution in the next lecture!\n",
        "\n"
      ],
      "metadata": {
        "id": "xKIkdhpqYiri"
      },
      "id": "xKIkdhpqYiri"
    },
    {
      "cell_type": "code",
      "source": [
        "def compute_histo_by_lines(img):\n",
        "    histo_y = np.zeros(img.shape[0])\n",
        "    histo_x = np.zeros(img.shape[1])\n",
        "\n",
        "    for i in range(img.shape[0]):\n",
        "        histo_y[i] = np.sum(img[i, :])\n",
        "\n",
        "    for i in range(img.shape[1]):\n",
        "        histo_x[i] = np.sum(img[:, i])\n",
        "\n",
        "    return histo_x, histo_y"
      ],
      "metadata": {
        "id": "xVrFc17TZv27"
      },
      "id": "xVrFc17TZv27",
      "execution_count": null,
      "outputs": []
    },
    {
      "cell_type": "code",
      "source": [
        "def start_end_histo(histo, line):\n",
        "    if np.max(histo) > 0:\n",
        "      start = [i for i, x in enumerate(histo) if x > line][0]\n",
        "      end = [i for i, x in enumerate(histo[::-1]) if x > line][0]\n",
        "      end = len(histo) - end\n",
        "    else:\n",
        "      start = end = 0\n",
        "    return start, end, end-start"
      ],
      "metadata": {
        "id": "bPtM-k8catAT"
      },
      "id": "bPtM-k8catAT",
      "execution_count": null,
      "outputs": []
    },
    {
      "cell_type": "code",
      "source": [
        "def euclidean_distance(p_x, p_y, q_x, q_y):\n",
        "    return math.sqrt((p_x - q_x)**2 + (p_y - q_y)**2)"
      ],
      "metadata": {
        "id": "68G2KPjxE81T"
      },
      "id": "68G2KPjxE81T",
      "execution_count": null,
      "outputs": []
    },
    {
      "cell_type": "code",
      "source": [
        "!unzip -q Euclid_dataset.zip -d /content"
      ],
      "metadata": {
        "id": "ijHTBY2xFsJr"
      },
      "id": "ijHTBY2xFsJr",
      "execution_count": null,
      "outputs": []
    },
    {
      "cell_type": "code",
      "source": [
        "from glob import glob\n",
        "from os.path import join\n",
        "from tqdm import tqdm\n",
        "import cv2\n",
        "\n",
        "dataset_path = r'/content/Euclid_dataset'\n",
        "images = glob(join(dataset_path, '*', '*.png'))\n",
        "print('Found {} images'.format(len(images)))"
      ],
      "metadata": {
        "id": "MybPokYnF0vS"
      },
      "id": "MybPokYnF0vS",
      "execution_count": null,
      "outputs": []
    },
    {
      "cell_type": "code",
      "source": [
        "# your code here"
      ],
      "metadata": {
        "id": "419FW5zrFCkR"
      },
      "id": "419FW5zrFCkR",
      "execution_count": null,
      "outputs": []
    }
  ],
  "metadata": {
    "kernelspec": {
      "display_name": "Python 3 (ipykernel)",
      "language": "python",
      "name": "python3"
    },
    "language_info": {
      "codemirror_mode": {
        "name": "ipython",
        "version": 3
      },
      "file_extension": ".py",
      "mimetype": "text/x-python",
      "name": "python",
      "nbconvert_exporter": "python",
      "pygments_lexer": "ipython3",
      "version": "3.8.13"
    },
    "colab": {
      "provenance": []
    }
  },
  "nbformat": 4,
  "nbformat_minor": 5
}