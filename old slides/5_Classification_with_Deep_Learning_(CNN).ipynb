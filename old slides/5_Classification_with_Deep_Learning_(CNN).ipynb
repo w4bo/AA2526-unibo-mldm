{
  "nbformat": 4,
  "nbformat_minor": 0,
  "metadata": {
    "colab": {
      "provenance": []
    },
    "kernelspec": {
      "name": "python3",
      "display_name": "Python 3"
    },
    "language_info": {
      "name": "python"
    },
    "accelerator": "GPU",
    "gpuClass": "standard"
  },
  "cells": [
    {
      "cell_type": "markdown",
      "source": [
        "# Classification with Deep Learning (CNNs)\n",
        "\n",
        "In this lesson, we learn how to solve a classification problem through a **Deep Learning** approach based on *Convolutional Neural Networks* (CNNs).\n",
        "\n",
        "**It is absolutely recommended to read the documentation relating to the functions and methods used!**\n",
        "Usually, it is sufficient typing on Google the name of the function (and eventually the name of the library used)."
      ],
      "metadata": {
        "id": "qg7KL0aWQwJC"
      }
    },
    {
      "cell_type": "markdown",
      "source": [
        "Let's import some **libraries**. We will use *TensorFlow* and *Keras* as Deep Learning framework."
      ],
      "metadata": {
        "id": "ZssyrYnDRGmR"
      }
    },
    {
      "cell_type": "code",
      "execution_count": null,
      "metadata": {
        "id": "OcH4Xacbg7bF"
      },
      "outputs": [],
      "source": [
        "import tensorflow as tf\n",
        "from tensorflow import keras\n",
        "from keras.models import Model\n",
        "from tensorflow.keras import layers\n",
        "from tensorflow.keras.layers import Dense\n",
        "import matplotlib.pyplot as plt"
      ]
    },
    {
      "cell_type": "markdown",
      "source": [
        "### Data\n",
        "\n",
        "\n",
        "1.   Upload the `.zip` file containing the *Euclid* dataset (Deep Learning version!) → this is for **training** and **validation**\n",
        "2.   Upload the `.zip` file containing the *Euclid* dataset (\"standard\" version) → this is for **testing**\n",
        "3.   Unzip all files using the following commands. Dataset folders will appear in `/content`"
      ],
      "metadata": {
        "id": "SLXpysTPRVJ0"
      }
    },
    {
      "cell_type": "code",
      "source": [
        "!unzip -q Euclid_dataset_DL.zip -d /content"
      ],
      "metadata": {
        "id": "z6gGq9EshL37"
      },
      "execution_count": null,
      "outputs": []
    },
    {
      "cell_type": "code",
      "source": [
        "!unzip -q Euclid_dataset.zip -d /content"
      ],
      "metadata": {
        "id": "WXbaGuqmzC53"
      },
      "execution_count": null,
      "outputs": []
    },
    {
      "cell_type": "markdown",
      "source": [
        "### Data Loaders\n",
        "\n",
        "We can use already developed methods to load data for our DL solution.\n",
        "\n",
        "Also in this case, we split the dataset with **80% of data in the training** and the remaining **20% in the validation set**.\n",
        "\n",
        "**Tools**:\n",
        "   * `image_dataset_from_directory()`: generates a dataset from image files in a directory, that yields batches of images from the subdirectories present in our directory."
      ],
      "metadata": {
        "id": "GhllMIO4Rb3Z"
      }
    },
    {
      "cell_type": "markdown",
      "source": [
        "**Training** dataset"
      ],
      "metadata": {
        "id": "k4b3sZ1ASan6"
      }
    },
    {
      "cell_type": "code",
      "source": [
        "train_ds = tf.keras.preprocessing.image_dataset_from_directory(\n",
        "    directory='Euclid_dataset_DL',\n",
        "    labels='inferred',\n",
        "    label_mode='categorical',\n",
        "    class_names=['triangle', 'rectangle', 'square', 'rhombus'],\n",
        "    color_mode='rgb',\n",
        "    batch_size=32,\n",
        "    image_size=(224, 224),\n",
        "    shuffle=True,\n",
        "    seed=1821,\n",
        "    validation_split=0.2,\n",
        "    subset='training',\n",
        "    interpolation='bilinear',\n",
        "    follow_links=False,\n",
        "    crop_to_aspect_ratio=False,\n",
        ")"
      ],
      "metadata": {
        "id": "goHMzLR-hBPs"
      },
      "execution_count": null,
      "outputs": []
    },
    {
      "cell_type": "markdown",
      "source": [
        "**Validation** dataset"
      ],
      "metadata": {
        "id": "2xzZ26miSd_x"
      }
    },
    {
      "cell_type": "code",
      "source": [
        "val_ds = tf.keras.preprocessing.image_dataset_from_directory(\n",
        "    directory='Euclid_dataset_DL',\n",
        "    labels='inferred',\n",
        "    label_mode='categorical',\n",
        "    class_names=['triangle', 'rectangle', 'square', 'rhombus'],\n",
        "    color_mode='rgb',\n",
        "    batch_size=32,\n",
        "    image_size=(224, 224),\n",
        "    shuffle=True,\n",
        "    seed=1821,\n",
        "    validation_split=0.2,\n",
        "    subset='validation',\n",
        "    interpolation='bilinear',\n",
        "    follow_links=False,\n",
        "    crop_to_aspect_ratio=False,\n",
        ")"
      ],
      "metadata": {
        "id": "Bo-hHneVhDbK"
      },
      "execution_count": null,
      "outputs": []
    },
    {
      "cell_type": "markdown",
      "source": [
        "**Testing** set"
      ],
      "metadata": {
        "id": "FSL3__y_UciS"
      }
    },
    {
      "cell_type": "code",
      "source": [
        "test_ds = tf.keras.preprocessing.image_dataset_from_directory(\n",
        "    directory='Euclid_dataset',\n",
        "    labels='inferred',\n",
        "    label_mode='categorical',\n",
        "    class_names=['triangle', 'rectangle', 'square', 'rhombus'],\n",
        "    color_mode='rgb',\n",
        "    batch_size=32,\n",
        "    image_size=(224, 224),\n",
        "    shuffle=True,\n",
        "    seed=1821,\n",
        "    validation_split=0,\n",
        "    interpolation='bilinear',\n",
        "    follow_links=False,\n",
        "    crop_to_aspect_ratio=False,\n",
        ")"
      ],
      "metadata": {
        "id": "z3DaOGRCUfky"
      },
      "execution_count": null,
      "outputs": []
    },
    {
      "cell_type": "markdown",
      "source": [
        "### Model architecture\n",
        "It's time to define the architecture of our *Convolutional Neural Network* (CNN), and we have two options:\n",
        "\n",
        "1.   Defining our **own architecture**.\n",
        "2.   Using one of the architecture proposed in the literature.  \n",
        "\n",
        "In our exercitation, we use the `MobileNet` CNN. We will use this architecture **pre-trained** on the `Imagenet` dataset (we are going to download the weights of the network from the official storage).\n",
        "\n",
        "\n",
        "\n"
      ],
      "metadata": {
        "id": "lDJaJ9lSSqtp"
      }
    },
    {
      "cell_type": "code",
      "source": [
        "# Our model\n",
        "model = tf.keras.applications.MobileNet(\n",
        "    input_shape=None,\n",
        "    alpha=1.0,\n",
        "    depth_multiplier=1,\n",
        "    dropout=0.001,\n",
        "    include_top=True,\n",
        "    weights=\"imagenet\",\n",
        "    input_tensor=None,\n",
        "    pooling=None,\n",
        "    classes=1000,\n",
        "    classifier_activation=\"softmax\"\n",
        "    )"
      ],
      "metadata": {
        "id": "ImPF3vGHhm58"
      },
      "execution_count": null,
      "outputs": []
    },
    {
      "cell_type": "markdown",
      "source": [
        "**Problem**: as you can see, the pre-trained model has 1000 classes, i.e. the final dense layer has 1000 neurons, while in our classification task we have only 4 classes.\n",
        "\n",
        "We need to adapt the architecture. We can remove the last layer and create a new dense layer with only 4 neurons.\n",
        "\n",
        "**Tools**:\n",
        "\n",
        "*   [**Sequential model**](https://keras.io/guides/sequential_model/) in TensorFlow\n",
        "  *   We can define a model as a sequence of layers (`output = Layer()(input)`)\n",
        "  *   Its layers are accessible via the `layers` attribute\n",
        "  *   Every layer has an `input` and `output` attribute. These attributes can be used to do neat things, like quickly creating a model that extracts the outputs of all intermediate layers.\n",
        "\n"
      ],
      "metadata": {
        "id": "kyTIVjtv1f3P"
      }
    },
    {
      "cell_type": "code",
      "source": [
        "# Create a layer where input is the output of the second last layer\n",
        "output = Dense(4, activation='softmax', name='predictions')(model.layers[-2].output)\n",
        "\n",
        "# Then create the corresponding model\n",
        "model = Model(model.input, output)"
      ],
      "metadata": {
        "id": "-D9sdfL-1THp"
      },
      "execution_count": null,
      "outputs": []
    },
    {
      "cell_type": "code",
      "source": [
        "model.summary()"
      ],
      "metadata": {
        "id": "ub70_6dc-ORF"
      },
      "execution_count": null,
      "outputs": []
    },
    {
      "cell_type": "markdown",
      "source": [
        "Here we define:\n",
        "\n",
        "*   number of **epochs**\n",
        "*   model saving\n",
        "*   **optimizer**\n",
        "*   **loss** function\n",
        "\n",
        "We also define the **callbacks**: a callback is an object (method) that can perform actions at various stages of training (*e.g.* at the start or end of an epoch, before or after a single batch, etc).\n",
        "\n",
        "We need to **compile** the model before the training phase.\n",
        "\n"
      ],
      "metadata": {
        "id": "BaOFM9KxbTop"
      }
    },
    {
      "cell_type": "code",
      "source": [
        "epochs = 5\n",
        "\n",
        "callbacks = [\n",
        "    # to save the model after every epoch\n",
        "    keras.callbacks.ModelCheckpoint(\"save_at_{epoch}.h5\"),\n",
        "    # logging\n",
        "    tf.keras.callbacks.TensorBoard(log_dir=\"logs\", write_graph=True, write_images=False, update_freq=\"epoch\",)\n",
        "]\n",
        "\n",
        "model.compile(\n",
        "    optimizer=keras.optimizers.SGD(1e-3),\n",
        "    loss=\"categorical_crossentropy\",\n",
        "    metrics=[\"accuracy\"],\n",
        ")"
      ],
      "metadata": {
        "id": "hD_8QfGEhvfL"
      },
      "execution_count": null,
      "outputs": []
    },
    {
      "cell_type": "markdown",
      "source": [
        "### Training\n",
        "If the training is too slow, remember to run the code on a machine equipped with a GPU.\n",
        "\n",
        "On Colab, click on **Runtime → Change Runtime type → GPU** (from the drop-down menu)"
      ],
      "metadata": {
        "id": "BargpIWIbsft"
      }
    },
    {
      "cell_type": "code",
      "source": [
        "model.fit(\n",
        "    train_ds, epochs=epochs, callbacks=callbacks, validation_data=val_ds,\n",
        ")"
      ],
      "metadata": {
        "id": "Bt6J16Xbhzir"
      },
      "execution_count": null,
      "outputs": []
    },
    {
      "cell_type": "markdown",
      "source": [
        "### Model Evaluation"
      ],
      "metadata": {
        "id": "Ub_8-nvC8Ymd"
      }
    },
    {
      "cell_type": "markdown",
      "source": [
        "Tensorflow method to easily evaluate the trained network on a test dataset."
      ],
      "metadata": {
        "id": "KGuWlkzX8gZ1"
      }
    },
    {
      "cell_type": "code",
      "source": [
        "model_trained = keras.models.load_model('/content/save_at_1.h5')\n",
        "\n",
        "model_trained.evaluate(\n",
        "    x=test_ds,\n",
        "    y=None,\n",
        "    batch_size=32,\n",
        "    verbose=True,\n",
        "    sample_weight=None,\n",
        "    steps=None,\n",
        "    callbacks=None,\n",
        "    max_queue_size=10,\n",
        "    workers=1,\n",
        "    use_multiprocessing=False,\n",
        "    return_dict=False,\n",
        ")"
      ],
      "metadata": {
        "id": "Deh6quvPXPPy"
      },
      "execution_count": null,
      "outputs": []
    },
    {
      "cell_type": "markdown",
      "source": [
        "We can load the **TensorBoard** module (provided with Tensorflow) to see our line plots!"
      ],
      "metadata": {
        "id": "FgtXy9HY5jR_"
      }
    },
    {
      "cell_type": "code",
      "source": [
        "# Load the TensorBoard notebook extension\n",
        "%load_ext tensorboard\n",
        "%tensorboard --logdir logs"
      ],
      "metadata": {
        "id": "K1aq2WVQ5hV-"
      },
      "execution_count": null,
      "outputs": []
    },
    {
      "cell_type": "markdown",
      "source": [
        "### Homework\n",
        "What if:\n",
        "\n",
        "*   you do not load a pre-trained model?\n",
        "*   you change the optimizer?\n",
        "*   you change the amount of available training data?\n",
        "*   you change the architecture?\n",
        "\n"
      ],
      "metadata": {
        "id": "IUU3gQhy66d5"
      }
    }
  ]
}