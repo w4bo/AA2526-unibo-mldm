{
  "cells": [
    {
      "cell_type": "markdown",
      "metadata": {
        "id": "view-in-github",
        "colab_type": "text"
      },
      "source": [
        "<a href=\"https://colab.research.google.com/github/w4bo/AA2425-unibo-mldm/blob/master/slides/lab-00-introduction.ipynb\" target=\"_parent\"><img src=\"https://colab.research.google.com/assets/colab-badge.svg\" alt=\"Open In Colab\"/></a>"
      ]
    },
    {
      "cell_type": "markdown",
      "metadata": {
        "id": "VaTYWpBnXs-I"
      },
      "source": [
        "# Lab 00 - Introduction\n",
        "\n",
        "- **It is absolutely recommended to read the documentation relating to the functions and methods used!**\n",
        "    - Usually, it is sufficient type on Google the name of the function (and eventually the name of the library used)\n",
        "- **The usage of ChatGPT and generative AI tools is highly discouraged during the labs**\n",
        "    - You must train the fundamentals before using advanced models\n",
        "    - When you start driving, you do not start with a F1 race car!\n",
        "    - At the exam, you must be capable to explain all the details of your assignment\n"
      ]
    },
    {
      "cell_type": "markdown",
      "source": [
        "## Goal of the lab: a first example of data preprocessing\n",
        "\n",
        "Data is usually stored in (textual) files\n",
        "\n",
        "- Usually, files cannot be directly handled by machine-learning approaches\n",
        "- We need to upload them in the notebook and transform them to apply further analysis\n",
        "\n",
        "How do we load existing datasets?\n",
        "\n",
        "What data structures do you know in Python?"
      ],
      "metadata": {
        "id": "-qAe3uDblH70"
      }
    },
    {
      "cell_type": "markdown",
      "source": [
        "## File format: CSV\n",
        "\n",
        "Comma-separated values (CSV)\n",
        "\n",
        "- CSV is a text file format that uses commas to separate values, and newlines to separate records\n",
        "- A CSV file stores tabular data (numbers and text) in plain text, where each line of the file typically represents one data record\n",
        "- Each record consists of the same number of fields\n",
        "- If the field delimiter itself may appear within a field, fields can be surrounded with quotation marks."
      ],
      "metadata": {
        "id": "QnYvTtZ1l4op"
      }
    },
    {
      "cell_type": "markdown",
      "metadata": {
        "id": "Fdjrwg0N-36p"
      },
      "source": [
        "## Locating the data\n",
        "\n",
        "These are main options to use files/datasets in a Colab project:\n",
        "\n",
        "1. Use the existing data in the `/content/sample_data/` folder\n",
        "2. Upload a new dataset (as file)\n",
        "  - Upload the file through the Colab GUI (temporary upload!);\n",
        "  - Upload the file on your Google Drive (you have to use the same Google account that you use with Colab)). Then, it is necessary to mount the drive in your Colab machine (use the \"Mount Drive\" button.);\n",
        "  - Use the following code snippet, file are uploaded to `/content/<file_name>`\n",
        "3. Use existing datasets from the web\n"
      ]
    },
    {
      "cell_type": "markdown",
      "source": [
        "## Read the existing data\n",
        "\n",
        "`open(<path>, <mode>)`: open the file located in the `path`, for reading, writing, ect. depending by the `mode`.\n"
      ],
      "metadata": {
        "id": "TrFuawlDUo6a"
      }
    },
    {
      "cell_type": "code",
      "source": [
        "file_path = '/content/sample_data/california_housing_train.csv'\n",
        "with open(file_path, 'r') as f:\n",
        "    lines = f.readlines()\n",
        "print('Read {} lines'.format(len(lines)))"
      ],
      "metadata": {
        "colab": {
          "base_uri": "https://localhost:8080/"
        },
        "id": "Ox8U-ggRUP3C",
        "outputId": "26a8d793-2849-444a-ab33-ca9095355a5c"
      },
      "execution_count": 8,
      "outputs": [
        {
          "output_type": "stream",
          "name": "stdout",
          "text": [
            "Read 17001 lines\n"
          ]
        }
      ]
    },
    {
      "cell_type": "markdown",
      "source": [
        "## Upload new data"
      ],
      "metadata": {
        "id": "M6KwinkPUuZF"
      }
    },
    {
      "cell_type": "code",
      "execution_count": 9,
      "metadata": {
        "id": "AozF-BXlGOTA"
      },
      "outputs": [],
      "source": [
        "from google.colab import files\n",
        "# uploaded = files.upload()  # uncomment this line to open the prompt to upload the dataset"
      ]
    },
    {
      "cell_type": "markdown",
      "source": [
        "## Import data from the web"
      ],
      "metadata": {
        "id": "9ZznBC_0U7_6"
      }
    },
    {
      "cell_type": "code",
      "source": [
        "!rm -rf iris/ || true # remove the folder if exists\n",
        "!rm iris.zip || true # remove the zip file if exists\n",
        "!wget https://archive.ics.uci.edu/static/public/53/iris.zip # download the public dataset\n",
        "!unzip iris.zip -d iris # unzip it\n",
        "\n",
        "file_path = '/content/iris/iris.data'\n",
        "with open(file_path, 'r') as f:\n",
        "    lines = f.readlines()\n",
        "print('Read {} lines'.format(len(lines)))"
      ],
      "metadata": {
        "colab": {
          "base_uri": "https://localhost:8080/"
        },
        "id": "xhVXcbjdU_4N",
        "outputId": "06e47a9c-8e5b-44a7-f3b4-3830a7f360fb"
      },
      "execution_count": 10,
      "outputs": [
        {
          "output_type": "stream",
          "name": "stdout",
          "text": [
            "--2024-09-18 14:50:37--  https://archive.ics.uci.edu/static/public/53/iris.zip\n",
            "Resolving archive.ics.uci.edu (archive.ics.uci.edu)... 128.195.10.252\n",
            "Connecting to archive.ics.uci.edu (archive.ics.uci.edu)|128.195.10.252|:443... connected.\n",
            "HTTP request sent, awaiting response... 200 OK\n",
            "Length: unspecified\n",
            "Saving to: ‘iris.zip’\n",
            "\n",
            "iris.zip                [ <=>                ]   3.65K  --.-KB/s    in 0s      \n",
            "\n",
            "2024-09-18 14:50:38 (763 MB/s) - ‘iris.zip’ saved [3738]\n",
            "\n",
            "Archive:  iris.zip\n",
            "  inflating: iris/Index              \n",
            "  inflating: iris/bezdekIris.data    \n",
            "  inflating: iris/iris.data          \n",
            "  inflating: iris/iris.names         \n",
            "Read 151 lines\n"
          ]
        }
      ]
    },
    {
      "cell_type": "markdown",
      "source": [
        "## Strings and lists\n",
        "\n",
        "Tools for managing strings and lists:\n",
        "\n",
        "- `strip()`: removes both the leading and the trailing characters.\n",
        "- `split()`: breaks up a string at the specified separator and returns a list of strings.\n",
        "- List slicing: `list[start:stop:step]`\n",
        "\n",
        "Examples:\n",
        "\n",
        "*   `a[start:stop]  # items start through stop-1`\n",
        "*   `a[start:]      # items start through the rest of the array`\n",
        "*   `a[:stop]       # items from the beginning through stop-1`\n",
        "*   `a[:]           # a copy of the whole array`\n",
        "*   `a[-1]    # last item in the array`\n",
        "*   `a[-2:]   # last two items in the array`\n",
        "*   `a[:-2]   # everything except the last two items`\n",
        "*    `a[::-1]    # all items in the array, reversed`"
      ],
      "metadata": {
        "id": "fEIY4a3QWB8V"
      }
    },
    {
      "cell_type": "code",
      "source": [
        "lines[:5]"
      ],
      "metadata": {
        "colab": {
          "base_uri": "https://localhost:8080/"
        },
        "id": "kriJZ4gdV5On",
        "outputId": "7fae3041-86e0-4bfb-c4d5-b691ad97282a"
      },
      "execution_count": 11,
      "outputs": [
        {
          "output_type": "execute_result",
          "data": {
            "text/plain": [
              "['5.1,3.5,1.4,0.2,Iris-setosa\\n',\n",
              " '4.9,3.0,1.4,0.2,Iris-setosa\\n',\n",
              " '4.7,3.2,1.3,0.2,Iris-setosa\\n',\n",
              " '4.6,3.1,1.5,0.2,Iris-setosa\\n',\n",
              " '5.0,3.6,1.4,0.2,Iris-setosa\\n']"
            ]
          },
          "metadata": {},
          "execution_count": 11
        }
      ]
    },
    {
      "cell_type": "code",
      "execution_count": 12,
      "metadata": {
        "id": "AkjpEdlL7J7b",
        "colab": {
          "base_uri": "https://localhost:8080/"
        },
        "outputId": "fb637c5a-2982-4754-f5ff-2d5afbf9517c"
      },
      "outputs": [
        {
          "output_type": "stream",
          "name": "stdout",
          "text": [
            "Raw content: 5.1,3.5,1.4,0.2,Iris-setosa\n",
            "\n",
            "Content after strip: 5.1,3.5,1.4,0.2,Iris-setosa\n",
            "Content after split: ['5.1', '3.5', '1.4', '0.2', 'Iris-setosa']\n",
            "Data: ['5.1', '3.5', '1.4'] Label: Iris-setosa\n",
            "---\n",
            "Raw content: 4.9,3.0,1.4,0.2,Iris-setosa\n",
            "\n",
            "Content after strip: 4.9,3.0,1.4,0.2,Iris-setosa\n",
            "Content after split: ['4.9', '3.0', '1.4', '0.2', 'Iris-setosa']\n",
            "Data: ['4.9', '3.0', '1.4'] Label: Iris-setosa\n",
            "---\n"
          ]
        }
      ],
      "source": [
        "for line in lines[:2]:\n",
        "    print(\"Raw content:\", line)\n",
        "    content = line.strip()\n",
        "    print(\"Content after strip:\", content)\n",
        "    content = content.split(',')\n",
        "    print(\"Content after split:\", content)\n",
        "    # now the content is a list with the splitted elements\n",
        "    data = content[:-2]   # the image name is in the first position\n",
        "    label = content[-1] # coordinates in the following part\n",
        "    # print the content\n",
        "    print('Data:', data, 'Label:', label)\n",
        "    print('---')"
      ]
    },
    {
      "cell_type": "markdown",
      "metadata": {
        "id": "XRi9VA5U-OEC"
      },
      "source": [
        "## Changing data types\n",
        "\n",
        "Note that the element in the list are strings. We must convert these strings in integers (`int`). These integers are then saved in a list.\n",
        "\n",
        "**Tools**:\n",
        "- List comprehension: `[expression for item in list]`"
      ]
    },
    {
      "cell_type": "code",
      "execution_count": 13,
      "metadata": {
        "id": "2w3TPSIP7Op7",
        "colab": {
          "base_uri": "https://localhost:8080/"
        },
        "outputId": "11af9843-fac7-496b-f618-9a0d2d77b7e6"
      },
      "outputs": [
        {
          "output_type": "stream",
          "name": "stdout",
          "text": [
            "Type of the data: <class 'str'>\n",
            "Type of the data: [<class 'float'>, <class 'float'>, <class 'float'>]\n"
          ]
        },
        {
          "output_type": "execute_result",
          "data": {
            "text/plain": [
              "[4.9, 3.0, 1.4]"
            ]
          },
          "metadata": {},
          "execution_count": 13
        }
      ],
      "source": [
        "print('Type of the data:', type(data[0]))\n",
        "data = [float(x) for x in data]\n",
        "print('Type of the data:', [type(x) for x in data])\n",
        "data"
      ]
    },
    {
      "cell_type": "markdown",
      "metadata": {
        "id": "OQlZB3AKNbdB"
      },
      "source": [
        "## Exercise\n",
        "\n",
        "1. Read the content of the file `iris.data`\n",
        "1. **Accumulate** the data and the labels in two different lists, named `dataset` and `labels`\n",
        "1. Cast all data to float\n",
        "1. Output the final length of the two lists.\n",
        "\n",
        "Given the input file with content\n",
        "\n",
        "    5.1,3.5,1.4,0.2,Iris-setosa\n",
        "    4.9,3.0,1.4,0.2,Iris-setosa\n",
        "    ...\n",
        "\n",
        "The lists should look like\n",
        "\n",
        "```python\n",
        "dataset = [[5.1,3.5,1.4,0.2], [4.9,3.0,1.4,0.2], ...]\n",
        "labels = ['Iris-setosa', 'Iris-setosa', ...]\n",
        "```"
      ]
    },
    {
      "cell_type": "code",
      "execution_count": 14,
      "metadata": {
        "id": "W4tkbP8yITed"
      },
      "outputs": [],
      "source": [
        "# write the code here"
      ]
    }
  ],
  "metadata": {
    "colab": {
      "provenance": [],
      "include_colab_link": true
    },
    "kernelspec": {
      "display_name": "Python 3 (ipykernel)",
      "language": "python",
      "name": "python3"
    },
    "language_info": {
      "codemirror_mode": {
        "name": "ipython",
        "version": 3
      },
      "file_extension": ".py",
      "mimetype": "text/x-python",
      "name": "python",
      "nbconvert_exporter": "python",
      "pygments_lexer": "ipython3",
      "version": "3.11.3"
    }
  },
  "nbformat": 4,
  "nbformat_minor": 0
}