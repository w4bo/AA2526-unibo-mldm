{
 "cells": [
  {
   "cell_type": "markdown",
   "metadata": {},
   "source": [
    "<a href=\"https://colab.research.google.com/github/w4bo/AA2425-unibo-mldm/blob/master/slides/lab-09-breastcancer.ipynb\" target=\"_parent\"><img src=\"https://colab.research.google.com/assets/colab-badge.svg\" alt=\"Open In Colab\"/></a>"
   ]
  },
  {
   "cell_type": "markdown",
   "metadata": {},
   "source": [
    "# The `BreastCancer` challenge\n",
    "\n",
    "**Goal**: it is your job to predict the `diagnosis` for each data item.\n",
    "\n",
    "**Metric**: submissions are evaluated using the accuracy score.\n",
    "\n",
    "- When splitting train and test datasets, the test dataset should contain 30% of the data.\n",
    "\n",
    "**Requirements**: you are allowed to use `numpy`, `pandas`, `matplotlib`, `sns`, and `sklearn` Python libraries.\n",
    "\n",
    "1. You can import any model from `sk-learn`.\n",
    "2. Try `sk-learn` [pipelines](https://scikit-learn.org/stable/modules/generated/sklearn.pipeline.Pipeline.html)\n",
    "3. Explore AutoML with `FLAML`"
   ]
  },
  {
   "cell_type": "markdown",
   "metadata": {},
   "source": [
    "# Setup"
   ]
  },
  {
   "cell_type": "code",
   "execution_count": null,
   "metadata": {},
   "outputs": [],
   "source": [
    "#| echo: false\n",
    "#| output: false\n",
    "\n",
    "!pip install flaml[automl]"
   ]
  },
  {
   "cell_type": "code",
   "execution_count": null,
   "metadata": {},
   "outputs": [],
   "source": [
    "# Import the libraries used for machine learning\n",
    "import numpy as np  # linear algebra\n",
    "import pandas as pd  # data processing, CSV file I/O (e.g. pd.read_csv), data manipulation as in SQL\n",
    "import matplotlib.pyplot as plt  # used for plotting \n",
    "import seaborn as sns   # used for plotting\n",
    "from sklearn.model_selection import train_test_split  #  split the data into training and test\n",
    "from sklearn.neighbors import KNeighborsClassifier  # import a machine learning model\n",
    "from sklearn import metrics  # check the error and accuracy of the model\n",
    "\n",
    "# SEED all random generators\n",
    "import random\n",
    "import os\n",
    "seed = 42\n",
    "random.seed(seed)\n",
    "os.environ['PYTHONHASHSEED'] = str(seed)\n",
    "np.random.seed(seed)\n",
    "\n",
    "# read the data\n",
    "df = pd.read_csv(\"https://raw.githubusercontent.com/w4bo/teaching-handsondatapipelines/main/materials/datasets/breastcancer.csv\")"
   ]
  },
  {
   "cell_type": "markdown",
   "metadata": {},
   "source": [
    "# Data understanding\n",
    "\n",
    "Hints\n",
    "\n",
    "- There are 569 observations with 30 features each\n",
    "- Each observation is labelled with a `diagnosis`"
   ]
  },
  {
   "cell_type": "code",
   "execution_count": null,
   "metadata": {},
   "outputs": [],
   "source": [
    "df"
   ]
  },
  {
   "cell_type": "markdown",
   "metadata": {},
   "source": [
    "# Data profiling"
   ]
  },
  {
   "cell_type": "code",
   "execution_count": null,
   "metadata": {},
   "outputs": [],
   "source": [
    "df.info()"
   ]
  },
  {
   "cell_type": "markdown",
   "metadata": {},
   "source": [
    "# Feature semantics\n",
    "\n",
    "Hint:\n",
    "\n",
    "- id of the observation\n",
    "- diagnosis (M = malignant, B = benign)\n",
    "- Ten real-valued features are computed for each cell nucleus:\n",
    "    - radius (mean of distances from center to points on the perimeter)\n",
    "    - texture (standard deviation of gray-scale values)\n",
    "    - perimeter\n",
    "    - area\n",
    "    - smoothness (local variation in radius lengths)\n",
    "    - compactness (perimeter^2 / area - 1.0)\n",
    "    - concavity (severity of concave portions of the contour)\n",
    "    - concave points (number of concave portions of the contour)\n",
    "    - symmetry\n",
    "    - fractal dimension (\"coastline approximation\" - 1)\n",
    "\n",
    "`*_mean`: the means of all cells\n",
    "\n",
    "`*_se`: standard error of all cells\n",
    "\n",
    "`*_worst`: the worst cell\n"
   ]
  },
  {
   "cell_type": "markdown",
   "metadata": {},
   "source": [
    "# ... and now?\n",
    "\n",
    "Take a first glance to the dataset\n",
    "\n",
    "- Do we consider all features?\n",
    "- Are there null values?\n",
    "- Which are the attribute types?\n",
    "- Which are the attribute ranges?\n",
    "- How many labels?\n",
    "- Are classes unbalanced?"
   ]
  }
 ],
 "metadata": {
  "language_info": {
   "name": "python"
  }
 },
 "nbformat": 4,
 "nbformat_minor": 2
}
